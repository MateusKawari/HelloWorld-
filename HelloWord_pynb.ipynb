{
  "nbformat": 4,
  "nbformat_minor": 0,
  "metadata": {
    "colab": {
      "provenance": [],
      "authorship_tag": "ABX9TyNm27tfFurPn+3sRfR4zrIS",
      "include_colab_link": true
    },
    "kernelspec": {
      "name": "python3",
      "display_name": "Python 3"
    },
    "language_info": {
      "name": "python"
    }
  },
  "cells": [
    {
      "cell_type": "markdown",
      "metadata": {
        "id": "view-in-github",
        "colab_type": "text"
      },
      "source": [
        "<a href=\"https://colab.research.google.com/github/MateusKawari/HelloWorld-/blob/main/HelloWord_pynb.ipynb\" target=\"_parent\"><img src=\"https://colab.research.google.com/assets/colab-badge.svg\" alt=\"Open In Colab\"/></a>"
      ]
    },
    {
      "cell_type": "code",
      "execution_count": null,
      "metadata": {
        "id": "OGBt4wFuuXmo"
      },
      "outputs": [],
      "source": [
        "# Relembrando primeiros códigos no Python\n",
        "\n",
        "start = (input('Lets start to code ? Enter the famous phrase: '))\n",
        "if start == 'Hello World':\n",
        "  print('Ohh, cool ! You know how to code, continue to studying ...')\n",
        "elif start == 'hello world':\n",
        "  print('Ohh, cool ! You know how to code, continue to studying ...')\n",
        "elif start == 'HELLO WORLD':\n",
        "    print('Ohh, cool ! You know how to code, continue to studying ...')\n",
        "else:\n",
        "  print(' Ohh no! You dont know how to start. For first, enter the famous phrase: Hello World!')\n",
        ""
      ]
    },
    {
      "cell_type": "code",
      "source": [
        "# Estou voltando a estudar Python e treinando, inovando em exercícios simples, relembrando e se possível criando projetos novos.\n",
        "\n",
        "# Hello world !! O código inicial de todo programador. Vamos experimentar algo diferente desta vez.\n",
        "\n",
        "age = int(input('Quantos anos você tem ?'))\n",
        "if age < 100:\n",
        "  print('Ainda da tempo, vamos codar !!')\n",
        "  hw = str(input('Digite o código mágico: '))\n",
        "  if hw == 'Hello World!':\n",
        "    print('Parabéns, bem vindo ao mundo da programação.')\n",
        "  elif hw == 'HELLO WORLD!':\n",
        "    print('Parabéns, bem vindo ao mundo da programação.')\n",
        "  elif hw == 'Hello world!':\n",
        "    print('Parabéns, bem vindo ao mundo da programação.')\n",
        "  else:\n",
        "    print('Você precisa aprender o código mágico, para ingressar na programação.Digite Hello World!')\n",
        "else:\n",
        "  print('Você já não faz mais parte deste plano.')"
      ],
      "metadata": {
        "id": "VjSiM0vzDnKq"
      },
      "execution_count": null,
      "outputs": []
    }
  ]
}